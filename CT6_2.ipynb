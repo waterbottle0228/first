{
  "nbformat": 4,
  "nbformat_minor": 0,
  "metadata": {
    "colab": {
      "provenance": [],
      "authorship_tag": "ABX9TyPBC6EVDLiBhK3Uw3nBIT8m",
      "include_colab_link": true
    },
    "kernelspec": {
      "name": "python3",
      "display_name": "Python 3"
    },
    "language_info": {
      "name": "python"
    }
  },
  "cells": [
    {
      "cell_type": "markdown",
      "metadata": {
        "id": "view-in-github",
        "colab_type": "text"
      },
      "source": [
        "<a href=\"https://colab.research.google.com/github/waterbottle0228/first/blob/main/CT6_2.ipynb\" target=\"_parent\"><img src=\"https://colab.research.google.com/assets/colab-badge.svg\" alt=\"Open In Colab\"/></a>"
      ]
    },
    {
      "cell_type": "code",
      "execution_count": 16,
      "metadata": {
        "colab": {
          "base_uri": "https://localhost:8080/"
        },
        "id": "jRcKfqfRXH2f",
        "outputId": "8ce1acf3-1286-47e1-fdea-708564c26140"
      },
      "outputs": [
        {
          "output_type": "stream",
          "name": "stdout",
          "text": [
            "성적을 입력하시오.:45\n",
            "성적을 입력하시오.:67\n",
            "성적을 입력하시오.:78\n",
            "성적을 입력하시오.:34\n",
            "성적을 입력하시오.:56\n",
            "성적을 입력하시오.:90\n",
            "성적을 입력하시오.:78\n",
            "성적을 입력하시오.:88\n",
            "성적을 입력하시오.:47\n",
            "성적을 입력하시오.:46\n",
            "총합= 629 평균= 62.9\n"
          ]
        }
      ],
      "source": [
        "total=0                                                                         #total변수에 0을 저장하라\n",
        "counter=1                                                                       #counter변수에 1을 저장하라\n",
        "while counter<=10:                                                              #아래의 과정을 10회까지 반복하라\n",
        "     grade=int(input(\"성적을 입력하시오.:\"))                                    #사용자에게 grade값을 정수형으로 받아라\n",
        "     total=grade+total                                                          #total변수에 grade+total의 합을 저장하라\n",
        "     counter=counter+1                                                          #counter변수에 1을 더하고 그 결과를 다시 counter변수에 저장하라\n",
        "average=total/10                                                                #average변수에 total을 10으로 나눈 평균값을 저장하라\n",
        "print('총합=', total, '평균=', average)                                         #총합과 변수 total, 평균과 변수 average값을 화면에 출력하라\n"
      ]
    }
  ]
}