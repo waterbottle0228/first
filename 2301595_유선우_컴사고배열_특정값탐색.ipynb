{
  "nbformat": 4,
  "nbformat_minor": 0,
  "metadata": {
    "colab": {
      "provenance": [],
      "authorship_tag": "ABX9TyOJrAWzlFbLG2vAjSgDYdJs",
      "include_colab_link": true
    },
    "kernelspec": {
      "name": "python3",
      "display_name": "Python 3"
    },
    "language_info": {
      "name": "python"
    }
  },
  "cells": [
    {
      "cell_type": "markdown",
      "metadata": {
        "id": "view-in-github",
        "colab_type": "text"
      },
      "source": [
        "<a href=\"https://colab.research.google.com/github/waterbottle0228/first/blob/main/2301595_%EC%9C%A0%EC%84%A0%EC%9A%B0_%EC%BB%B4%EC%82%AC%EA%B3%A0%EB%B0%B0%EC%97%B4_%ED%8A%B9%EC%A0%95%EA%B0%92%ED%83%90%EC%83%89.ipynb\" target=\"_parent\"><img src=\"https://colab.research.google.com/assets/colab-badge.svg\" alt=\"Open In Colab\"/></a>"
      ]
    },
    {
      "cell_type": "code",
      "execution_count": 4,
      "metadata": {
        "colab": {
          "base_uri": "https://localhost:8080/"
        },
        "id": "O83ez9q7qBwK",
        "outputId": "77785a99-5ea3-4eda-80e8-36353f4a254c"
      },
      "outputs": [
        {
          "output_type": "stream",
          "name": "stdout",
          "text": [
            "탐색 성공! 50\n"
          ]
        }
      ],
      "source": [
        "list = [90, 86, 75, 50, 98, 64]\n",
        "i = 0\n",
        "search_value = 50\n",
        "\n",
        "while i < 6:\n",
        "    if list[i] == search_value:\n",
        "        print(\"탐색 성공!\", search_value)\n",
        "    i = i + 1\n"
      ]
    }
  ]
}