{
  "nbformat": 4,
  "nbformat_minor": 0,
  "metadata": {
    "colab": {
      "provenance": [],
      "authorship_tag": "ABX9TyMLI1X/9oCyJ1VkvTaR06kF",
      "include_colab_link": true
    },
    "kernelspec": {
      "name": "python3",
      "display_name": "Python 3"
    },
    "language_info": {
      "name": "python"
    }
  },
  "cells": [
    {
      "cell_type": "markdown",
      "metadata": {
        "id": "view-in-github",
        "colab_type": "text"
      },
      "source": [
        "<a href=\"https://colab.research.google.com/github/waterbottle0228/first/blob/main/2301595_%EC%9C%A0%EC%84%A0%EC%9A%B0_%EC%BB%B4%EC%82%AC%EA%B3%A0%EB%B0%B0%EC%97%B4.ipynb\" target=\"_parent\"><img src=\"https://colab.research.google.com/assets/colab-badge.svg\" alt=\"Open In Colab\"/></a>"
      ]
    },
    {
      "cell_type": "code",
      "execution_count": 6,
      "metadata": {
        "colab": {
          "base_uri": "https://localhost:8080/"
        },
        "id": "2q1MNJq9waYO",
        "outputId": "4a588ceb-caba-4f71-dd05-cf233e5d87ea"
      },
      "outputs": [
        {
          "output_type": "stream",
          "name": "stdout",
          "text": [
            "평균: 71.5\n"
          ]
        }
      ],
      "source": [
        "sum=0\n",
        "i=0\n",
        "list=[90, 86, 75, 50, 64, 64]\n",
        "while i<6:\n",
        "        sum=sum+list[i]\n",
        "        i=i+1\n",
        "average=sum/6\n",
        "print('평균:', average)"
      ]
    }
  ]
}