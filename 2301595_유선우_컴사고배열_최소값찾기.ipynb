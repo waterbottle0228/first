{
  "nbformat": 4,
  "nbformat_minor": 0,
  "metadata": {
    "colab": {
      "provenance": [],
      "authorship_tag": "ABX9TyOb1IpVXAJiun6EejpRmmfl",
      "include_colab_link": true
    },
    "kernelspec": {
      "name": "python3",
      "display_name": "Python 3"
    },
    "language_info": {
      "name": "python"
    }
  },
  "cells": [
    {
      "cell_type": "markdown",
      "metadata": {
        "id": "view-in-github",
        "colab_type": "text"
      },
      "source": [
        "<a href=\"https://colab.research.google.com/github/waterbottle0228/first/blob/main/2301595_%EC%9C%A0%EC%84%A0%EC%9A%B0_%EC%BB%B4%EC%82%AC%EA%B3%A0%EB%B0%B0%EC%97%B4_%EC%B5%9C%EC%86%8C%EA%B0%92%EC%B0%BE%EA%B8%B0.ipynb\" target=\"_parent\"><img src=\"https://colab.research.google.com/assets/colab-badge.svg\" alt=\"Open In Colab\"/></a>"
      ]
    },
    {
      "cell_type": "code",
      "execution_count": 22,
      "metadata": {
        "colab": {
          "base_uri": "https://localhost:8080/"
        },
        "id": "PdTXR9Fe7ZzJ",
        "outputId": "e4070af3-b598-4e84-f526-b0fa9398d8d3"
      },
      "outputs": [
        {
          "output_type": "stream",
          "name": "stdout",
          "text": [
            "최소값: 50\n"
          ]
        }
      ],
      "source": [
        "prices=[90, 86, 75, 50, 98, 64]\n",
        "minimum=prices[0]\n",
        "i=1\n",
        "while i<6:\n",
        "      if prices[i]<minimum:\n",
        "        minimum=prices[i]\n",
        "      i=i+1\n",
        "print('최소값:', minimum)  "
      ]
    }
  ]
}